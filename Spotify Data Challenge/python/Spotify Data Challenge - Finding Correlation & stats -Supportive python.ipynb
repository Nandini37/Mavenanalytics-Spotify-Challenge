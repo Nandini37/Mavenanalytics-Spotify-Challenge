{
 "cells": [
  {
   "cell_type": "code",
   "execution_count": 1,
   "id": "6f8c68c4",
   "metadata": {},
   "outputs": [],
   "source": [
    "import pandas as pd\n",
    "import numpy as np"
   ]
  },
  {
   "cell_type": "code",
   "execution_count": 2,
   "id": "d372e050",
   "metadata": {},
   "outputs": [],
   "source": [
    "df = pd.read_csv(\"top2018.csv\")"
   ]
  },
  {
   "cell_type": "code",
   "execution_count": 3,
   "id": "2fb34b51",
   "metadata": {},
   "outputs": [
    {
     "data": {
      "text/html": [
       "<div>\n",
       "<style scoped>\n",
       "    .dataframe tbody tr th:only-of-type {\n",
       "        vertical-align: middle;\n",
       "    }\n",
       "\n",
       "    .dataframe tbody tr th {\n",
       "        vertical-align: top;\n",
       "    }\n",
       "\n",
       "    .dataframe thead th {\n",
       "        text-align: right;\n",
       "    }\n",
       "</style>\n",
       "<table border=\"1\" class=\"dataframe\">\n",
       "  <thead>\n",
       "    <tr style=\"text-align: right;\">\n",
       "      <th></th>\n",
       "      <th>id</th>\n",
       "      <th>name</th>\n",
       "      <th>artists</th>\n",
       "      <th>danceability</th>\n",
       "      <th>energy</th>\n",
       "      <th>key</th>\n",
       "      <th>loudness</th>\n",
       "      <th>mode</th>\n",
       "      <th>speechiness</th>\n",
       "      <th>acousticness</th>\n",
       "      <th>instrumentalness</th>\n",
       "      <th>liveness</th>\n",
       "      <th>valence</th>\n",
       "      <th>tempo</th>\n",
       "      <th>duration_ms</th>\n",
       "      <th>time_signature</th>\n",
       "    </tr>\n",
       "  </thead>\n",
       "  <tbody>\n",
       "    <tr>\n",
       "      <th>0</th>\n",
       "      <td>6DCZcSspjsKoFjzjrWoCd</td>\n",
       "      <td>God's Plan</td>\n",
       "      <td>Drake</td>\n",
       "      <td>0.754</td>\n",
       "      <td>0.449</td>\n",
       "      <td>7.0</td>\n",
       "      <td>-9.211</td>\n",
       "      <td>1.0</td>\n",
       "      <td>0.1090</td>\n",
       "      <td>0.0332</td>\n",
       "      <td>0.000083</td>\n",
       "      <td>0.552</td>\n",
       "      <td>0.357</td>\n",
       "      <td>77.169</td>\n",
       "      <td>198973.0</td>\n",
       "      <td>4.0</td>\n",
       "    </tr>\n",
       "    <tr>\n",
       "      <th>1</th>\n",
       "      <td>3ee8Jmje8o58CHK66QrVC</td>\n",
       "      <td>SAD!</td>\n",
       "      <td>XXXTENTACION</td>\n",
       "      <td>0.740</td>\n",
       "      <td>0.613</td>\n",
       "      <td>8.0</td>\n",
       "      <td>-4.880</td>\n",
       "      <td>1.0</td>\n",
       "      <td>0.1450</td>\n",
       "      <td>0.2580</td>\n",
       "      <td>0.003720</td>\n",
       "      <td>0.123</td>\n",
       "      <td>0.473</td>\n",
       "      <td>75.023</td>\n",
       "      <td>166606.0</td>\n",
       "      <td>4.0</td>\n",
       "    </tr>\n",
       "    <tr>\n",
       "      <th>2</th>\n",
       "      <td>0e7ipj03S05BNilyu5bRz</td>\n",
       "      <td>rockstar (feat. 21 Savage)</td>\n",
       "      <td>Post Malone</td>\n",
       "      <td>0.587</td>\n",
       "      <td>0.535</td>\n",
       "      <td>5.0</td>\n",
       "      <td>-6.090</td>\n",
       "      <td>0.0</td>\n",
       "      <td>0.0898</td>\n",
       "      <td>0.1170</td>\n",
       "      <td>0.000066</td>\n",
       "      <td>0.131</td>\n",
       "      <td>0.140</td>\n",
       "      <td>159.847</td>\n",
       "      <td>218147.0</td>\n",
       "      <td>4.0</td>\n",
       "    </tr>\n",
       "    <tr>\n",
       "      <th>3</th>\n",
       "      <td>3swc6WTsr7rl9DqQKQA55</td>\n",
       "      <td>Psycho (feat. Ty Dolla $ign)</td>\n",
       "      <td>Post Malone</td>\n",
       "      <td>0.739</td>\n",
       "      <td>0.559</td>\n",
       "      <td>8.0</td>\n",
       "      <td>-8.011</td>\n",
       "      <td>1.0</td>\n",
       "      <td>0.1170</td>\n",
       "      <td>0.5800</td>\n",
       "      <td>0.000000</td>\n",
       "      <td>0.112</td>\n",
       "      <td>0.439</td>\n",
       "      <td>140.124</td>\n",
       "      <td>221440.0</td>\n",
       "      <td>4.0</td>\n",
       "    </tr>\n",
       "    <tr>\n",
       "      <th>4</th>\n",
       "      <td>2G7V7zsVDxg1yRsu7Ew9R</td>\n",
       "      <td>In My Feelings</td>\n",
       "      <td>Drake</td>\n",
       "      <td>0.835</td>\n",
       "      <td>0.626</td>\n",
       "      <td>1.0</td>\n",
       "      <td>-5.833</td>\n",
       "      <td>1.0</td>\n",
       "      <td>0.1250</td>\n",
       "      <td>0.0589</td>\n",
       "      <td>0.000060</td>\n",
       "      <td>0.396</td>\n",
       "      <td>0.350</td>\n",
       "      <td>91.030</td>\n",
       "      <td>217925.0</td>\n",
       "      <td>4.0</td>\n",
       "    </tr>\n",
       "  </tbody>\n",
       "</table>\n",
       "</div>"
      ],
      "text/plain": [
       "                      id                          name       artists  \\\n",
       "0  6DCZcSspjsKoFjzjrWoCd                    God's Plan         Drake   \n",
       "1  3ee8Jmje8o58CHK66QrVC                          SAD!  XXXTENTACION   \n",
       "2  0e7ipj03S05BNilyu5bRz    rockstar (feat. 21 Savage)   Post Malone   \n",
       "3  3swc6WTsr7rl9DqQKQA55  Psycho (feat. Ty Dolla $ign)   Post Malone   \n",
       "4  2G7V7zsVDxg1yRsu7Ew9R                In My Feelings         Drake   \n",
       "\n",
       "   danceability  energy  key  loudness  mode  speechiness  acousticness  \\\n",
       "0         0.754   0.449  7.0    -9.211   1.0       0.1090        0.0332   \n",
       "1         0.740   0.613  8.0    -4.880   1.0       0.1450        0.2580   \n",
       "2         0.587   0.535  5.0    -6.090   0.0       0.0898        0.1170   \n",
       "3         0.739   0.559  8.0    -8.011   1.0       0.1170        0.5800   \n",
       "4         0.835   0.626  1.0    -5.833   1.0       0.1250        0.0589   \n",
       "\n",
       "   instrumentalness  liveness  valence    tempo  duration_ms  time_signature  \n",
       "0          0.000083     0.552    0.357   77.169     198973.0             4.0  \n",
       "1          0.003720     0.123    0.473   75.023     166606.0             4.0  \n",
       "2          0.000066     0.131    0.140  159.847     218147.0             4.0  \n",
       "3          0.000000     0.112    0.439  140.124     221440.0             4.0  \n",
       "4          0.000060     0.396    0.350   91.030     217925.0             4.0  "
      ]
     },
     "execution_count": 3,
     "metadata": {},
     "output_type": "execute_result"
    }
   ],
   "source": [
    "df.head()"
   ]
  },
  {
   "cell_type": "code",
   "execution_count": null,
   "id": "6ddfa5d9",
   "metadata": {},
   "outputs": [],
   "source": []
  },
  {
   "cell_type": "code",
   "execution_count": 4,
   "id": "7c5e7060",
   "metadata": {},
   "outputs": [
    {
     "data": {
      "text/plain": [
       "id                  0\n",
       "name                0\n",
       "artists             0\n",
       "danceability        0\n",
       "energy              0\n",
       "key                 0\n",
       "loudness            0\n",
       "mode                0\n",
       "speechiness         0\n",
       "acousticness        0\n",
       "instrumentalness    0\n",
       "liveness            0\n",
       "valence             0\n",
       "tempo               0\n",
       "duration_ms         0\n",
       "time_signature      0\n",
       "dtype: int64"
      ]
     },
     "execution_count": 4,
     "metadata": {},
     "output_type": "execute_result"
    }
   ],
   "source": [
    "df.isnull().sum()"
   ]
  },
  {
   "cell_type": "code",
   "execution_count": 8,
   "id": "a3365d7d",
   "metadata": {},
   "outputs": [
    {
     "data": {
      "text/plain": [
       "0.0"
      ]
     },
     "execution_count": 8,
     "metadata": {},
     "output_type": "execute_result"
    }
   ],
   "source": [
    "df.duplicated().sum()*100/df.shape[0]"
   ]
  },
  {
   "cell_type": "code",
   "execution_count": 9,
   "id": "772707c0",
   "metadata": {},
   "outputs": [],
   "source": [
    "import matplotlib.pyplot as plt\n",
    "import seaborn as sns\n",
    "\n",
    "import plotly as py\n",
    "import plotly.graph_objs as go\n",
    "\n",
    "import warnings\n",
    "warnings.filterwarnings('ignore')"
   ]
  },
  {
   "cell_type": "code",
   "execution_count": null,
   "id": "c23996b9",
   "metadata": {},
   "outputs": [],
   "source": []
  },
  {
   "cell_type": "code",
   "execution_count": 10,
   "id": "b4f00f82",
   "metadata": {},
   "outputs": [
    {
     "data": {
      "image/png": "[encoded data removed]",
      "text/plain": [
       "<Figure size 864x576 with 2 Axes>"
      ]
     },
     "metadata": {
      "needs_background": "light"
     },
     "output_type": "display_data"
    }
   ],
   "source": [
    "plt.figure(figsize=(12,8))\n",
    "ax = sns.heatmap(df.corr(),annot = True)\n",
    "plt.show()"
   ]
  },
  {
   "cell_type": "code",
   "execution_count": null,
   "id": "02c4a1c4",
   "metadata": {},
   "outputs": [],
   "source": []
  },
  {
   "cell_type": "code",
   "execution_count": 11,
   "id": "f191887d",
   "metadata": {},
   "outputs": [
    {
     "name": "stdout",
     "output_type": "stream",
     "text": [
      "Relation exists between:  {'loudness', 'valence', 'acousticness'}\n"
     ]
    }
   ],
   "source": [
    "def correlation(dataset, threshold):\n",
    "    col_corr = set()  # Set of all the names of correlated columns\n",
    "    corr_matrix = dataset.corr()\n",
    "    for i in range(len(corr_matrix.columns)):\n",
    "        for j in range(i):\n",
    "            if abs(corr_matrix.iloc[i, j]) > threshold: # we are interested in absolute coeff value\n",
    "                colname = corr_matrix.columns[i]  # getting the name of column\n",
    "                col_corr.add(colname)\n",
    "    return col_corr\n",
    "\n",
    "\n",
    "\n",
    "print(\"Relation exists between: \",correlation(df,0.4))"
   ]
  },
  {
   "cell_type": "markdown",
   "id": "ee24cda1",
   "metadata": {},
   "source": [
    "\n",
    "## Descriptive Statistics"
   ]
  },
  {
   "cell_type": "code",
   "execution_count": 12,
   "id": "aa45cb93",
   "metadata": {},
   "outputs": [
    {
     "data": {
      "text/plain": [
       "(100, 16)"
      ]
     },
     "execution_count": 12,
     "metadata": {},
     "output_type": "execute_result"
    }
   ],
   "source": [
    "#data dimension\n",
    "\n",
    "df.shape"
   ]
  },
  {
   "cell_type": "code",
   "execution_count": 13,
   "id": "c92802c0",
   "metadata": {},
   "outputs": [
    {
     "name": "stdout",
     "output_type": "stream",
     "text": [
      "<class 'pandas.core.frame.DataFrame'>\n",
      "RangeIndex: 100 entries, 0 to 99\n",
      "Data columns (total 16 columns):\n",
      " #   Column            Non-Null Count  Dtype  \n",
      "---  ------            --------------  -----  \n",
      " 0   id                100 non-null    object \n",
      " 1   name              100 non-null    object \n",
      " 2   artists           100 non-null    object \n",
      " 3   danceability      100 non-null    float64\n",
      " 4   energy            100 non-null    float64\n",
      " 5   key               100 non-null    float64\n",
      " 6   loudness          100 non-null    float64\n",
      " 7   mode              100 non-null    float64\n",
      " 8   speechiness       100 non-null    float64\n",
      " 9   acousticness      100 non-null    float64\n",
      " 10  instrumentalness  100 non-null    float64\n",
      " 11  liveness          100 non-null    float64\n",
      " 12  valence           100 non-null    float64\n",
      " 13  tempo             100 non-null    float64\n",
      " 14  duration_ms       100 non-null    float64\n",
      " 15  time_signature    100 non-null    float64\n",
      "dtypes: float64(13), object(3)\n",
      "memory usage: 12.6+ KB\n"
     ]
    }
   ],
   "source": [
    "#data summary\n",
    "\n",
    "df.info()"
   ]
  },
  {
   "cell_type": "code",
   "execution_count": 15,
   "id": "e0653514",
   "metadata": {},
   "outputs": [
    {
     "data": {
      "text/html": [
       "<div>\n",
       "<style scoped>\n",
       "    .dataframe tbody tr th:only-of-type {\n",
       "        vertical-align: middle;\n",
       "    }\n",
       "\n",
       "    .dataframe tbody tr th {\n",
       "        vertical-align: top;\n",
       "    }\n",
       "\n",
       "    .dataframe thead th {\n",
       "        text-align: right;\n",
       "    }\n",
       "</style>\n",
       "<table border=\"1\" class=\"dataframe\">\n",
       "  <thead>\n",
       "    <tr style=\"text-align: right;\">\n",
       "      <th></th>\n",
       "      <th>danceability</th>\n",
       "      <th>energy</th>\n",
       "      <th>key</th>\n",
       "      <th>loudness</th>\n",
       "      <th>mode</th>\n",
       "      <th>speechiness</th>\n",
       "      <th>acousticness</th>\n",
       "      <th>instrumentalness</th>\n",
       "      <th>liveness</th>\n",
       "      <th>valence</th>\n",
       "      <th>tempo</th>\n",
       "      <th>duration_ms</th>\n",
       "      <th>time_signature</th>\n",
       "    </tr>\n",
       "  </thead>\n",
       "  <tbody>\n",
       "    <tr>\n",
       "      <th>count</th>\n",
       "      <td>100.00000</td>\n",
       "      <td>100.000000</td>\n",
       "      <td>100.000000</td>\n",
       "      <td>100.000000</td>\n",
       "      <td>100.000000</td>\n",
       "      <td>100.000000</td>\n",
       "      <td>100.000000</td>\n",
       "      <td>100.000000</td>\n",
       "      <td>100.000000</td>\n",
       "      <td>100.000000</td>\n",
       "      <td>100.000000</td>\n",
       "      <td>100.000000</td>\n",
       "      <td>100.00</td>\n",
       "    </tr>\n",
       "    <tr>\n",
       "      <th>mean</th>\n",
       "      <td>0.71646</td>\n",
       "      <td>0.659060</td>\n",
       "      <td>5.330000</td>\n",
       "      <td>-5.677640</td>\n",
       "      <td>0.590000</td>\n",
       "      <td>0.115569</td>\n",
       "      <td>0.195701</td>\n",
       "      <td>0.001584</td>\n",
       "      <td>0.158302</td>\n",
       "      <td>0.484443</td>\n",
       "      <td>119.904180</td>\n",
       "      <td>205206.780000</td>\n",
       "      <td>3.98</td>\n",
       "    </tr>\n",
       "    <tr>\n",
       "      <th>std</th>\n",
       "      <td>0.13107</td>\n",
       "      <td>0.145067</td>\n",
       "      <td>3.676447</td>\n",
       "      <td>1.777577</td>\n",
       "      <td>0.494311</td>\n",
       "      <td>0.104527</td>\n",
       "      <td>0.220946</td>\n",
       "      <td>0.013449</td>\n",
       "      <td>0.111662</td>\n",
       "      <td>0.206145</td>\n",
       "      <td>28.795984</td>\n",
       "      <td>40007.893404</td>\n",
       "      <td>0.20</td>\n",
       "    </tr>\n",
       "    <tr>\n",
       "      <th>min</th>\n",
       "      <td>0.25800</td>\n",
       "      <td>0.296000</td>\n",
       "      <td>0.000000</td>\n",
       "      <td>-10.109000</td>\n",
       "      <td>0.000000</td>\n",
       "      <td>0.023200</td>\n",
       "      <td>0.000282</td>\n",
       "      <td>0.000000</td>\n",
       "      <td>0.021500</td>\n",
       "      <td>0.079600</td>\n",
       "      <td>64.934000</td>\n",
       "      <td>95467.000000</td>\n",
       "      <td>3.00</td>\n",
       "    </tr>\n",
       "    <tr>\n",
       "      <th>25%</th>\n",
       "      <td>0.63550</td>\n",
       "      <td>0.562000</td>\n",
       "      <td>1.750000</td>\n",
       "      <td>-6.650500</td>\n",
       "      <td>0.000000</td>\n",
       "      <td>0.045350</td>\n",
       "      <td>0.040225</td>\n",
       "      <td>0.000000</td>\n",
       "      <td>0.094675</td>\n",
       "      <td>0.341000</td>\n",
       "      <td>95.730750</td>\n",
       "      <td>184680.000000</td>\n",
       "      <td>4.00</td>\n",
       "    </tr>\n",
       "    <tr>\n",
       "      <th>50%</th>\n",
       "      <td>0.73300</td>\n",
       "      <td>0.678000</td>\n",
       "      <td>5.000000</td>\n",
       "      <td>-5.566500</td>\n",
       "      <td>1.000000</td>\n",
       "      <td>0.074950</td>\n",
       "      <td>0.109000</td>\n",
       "      <td>0.000000</td>\n",
       "      <td>0.118500</td>\n",
       "      <td>0.470500</td>\n",
       "      <td>120.116000</td>\n",
       "      <td>205047.500000</td>\n",
       "      <td>4.00</td>\n",
       "    </tr>\n",
       "    <tr>\n",
       "      <th>75%</th>\n",
       "      <td>0.79825</td>\n",
       "      <td>0.772250</td>\n",
       "      <td>8.250000</td>\n",
       "      <td>-4.363750</td>\n",
       "      <td>1.000000</td>\n",
       "      <td>0.137000</td>\n",
       "      <td>0.247750</td>\n",
       "      <td>0.000031</td>\n",
       "      <td>0.170750</td>\n",
       "      <td>0.641500</td>\n",
       "      <td>140.022750</td>\n",
       "      <td>221493.250000</td>\n",
       "      <td>4.00</td>\n",
       "    </tr>\n",
       "    <tr>\n",
       "      <th>max</th>\n",
       "      <td>0.96400</td>\n",
       "      <td>0.909000</td>\n",
       "      <td>11.000000</td>\n",
       "      <td>-2.384000</td>\n",
       "      <td>1.000000</td>\n",
       "      <td>0.530000</td>\n",
       "      <td>0.934000</td>\n",
       "      <td>0.134000</td>\n",
       "      <td>0.636000</td>\n",
       "      <td>0.931000</td>\n",
       "      <td>198.075000</td>\n",
       "      <td>417920.000000</td>\n",
       "      <td>5.00</td>\n",
       "    </tr>\n",
       "  </tbody>\n",
       "</table>\n",
       "</div>"
      ],
      "text/plain": [
       "       danceability      energy         key    loudness        mode  \\\n",
       "count     100.00000  100.000000  100.000000  100.000000  100.000000   \n",
       "mean        0.71646    0.659060    5.330000   -5.677640    0.590000   \n",
       "std         0.13107    0.145067    3.676447    1.777577    0.494311   \n",
       "min         0.25800    0.296000    0.000000  -10.109000    0.000000   \n",
       "25%         0.63550    0.562000    1.750000   -6.650500    0.000000   \n",
       "50%         0.73300    0.678000    5.000000   -5.566500    1.000000   \n",
       "75%         0.79825    0.772250    8.250000   -4.363750    1.000000   \n",
       "max         0.96400    0.909000   11.000000   -2.384000    1.000000   \n",
       "\n",
       "       speechiness  acousticness  instrumentalness    liveness     valence  \\\n",
       "count   100.000000    100.000000        100.000000  100.000000  100.000000   \n",
       "mean      0.115569      0.195701          0.001584    0.158302    0.484443   \n",
       "std       0.104527      0.220946          0.013449    0.111662    0.206145   \n",
       "min       0.023200      0.000282          0.000000    0.021500    0.079600   \n",
       "25%       0.045350      0.040225          0.000000    0.094675    0.341000   \n",
       "50%       0.074950      0.109000          0.000000    0.118500    0.470500   \n",
       "75%       0.137000      0.247750          0.000031    0.170750    0.641500   \n",
       "max       0.530000      0.934000          0.134000    0.636000    0.931000   \n",
       "\n",
       "            tempo    duration_ms  time_signature  \n",
       "count  100.000000     100.000000          100.00  \n",
       "mean   119.904180  205206.780000            3.98  \n",
       "std     28.795984   40007.893404            0.20  \n",
       "min     64.934000   95467.000000            3.00  \n",
       "25%     95.730750  184680.000000            4.00  \n",
       "50%    120.116000  205047.500000            4.00  \n",
       "75%    140.022750  221493.250000            4.00  \n",
       "max    198.075000  417920.000000            5.00  "
      ]
     },
     "execution_count": 15,
     "metadata": {},
     "output_type": "execute_result"
    }
   ],
   "source": [
    "#statistics for all column\n",
    "\n",
    "df.describe()"
   ]
  },
  {
   "cell_type": "code",
   "execution_count": 16,
   "id": "5fddfa52",
   "metadata": {},
   "outputs": [
    {
     "data": {
      "text/html": [
       "<div>\n",
       "<style scoped>\n",
       "    .dataframe tbody tr th:only-of-type {\n",
       "        vertical-align: middle;\n",
       "    }\n",
       "\n",
       "    .dataframe tbody tr th {\n",
       "        vertical-align: top;\n",
       "    }\n",
       "\n",
       "    .dataframe thead th {\n",
       "        text-align: right;\n",
       "    }\n",
       "</style>\n",
       "<table border=\"1\" class=\"dataframe\">\n",
       "  <thead>\n",
       "    <tr style=\"text-align: right;\">\n",
       "      <th></th>\n",
       "      <th>id</th>\n",
       "      <th>name</th>\n",
       "      <th>artists</th>\n",
       "    </tr>\n",
       "  </thead>\n",
       "  <tbody>\n",
       "    <tr>\n",
       "      <th>count</th>\n",
       "      <td>100</td>\n",
       "      <td>100</td>\n",
       "      <td>100</td>\n",
       "    </tr>\n",
       "    <tr>\n",
       "      <th>unique</th>\n",
       "      <td>100</td>\n",
       "      <td>100</td>\n",
       "      <td>70</td>\n",
       "    </tr>\n",
       "    <tr>\n",
       "      <th>top</th>\n",
       "      <td>6DCZcSspjsKoFjzjrWoCd</td>\n",
       "      <td>God's Plan</td>\n",
       "      <td>Post Malone</td>\n",
       "    </tr>\n",
       "    <tr>\n",
       "      <th>freq</th>\n",
       "      <td>1</td>\n",
       "      <td>1</td>\n",
       "      <td>6</td>\n",
       "    </tr>\n",
       "  </tbody>\n",
       "</table>\n",
       "</div>"
      ],
      "text/plain": [
       "                           id        name      artists\n",
       "count                     100         100          100\n",
       "unique                    100         100           70\n",
       "top     6DCZcSspjsKoFjzjrWoCd  God's Plan  Post Malone\n",
       "freq                        1           1            6"
      ]
     },
     "execution_count": 16,
     "metadata": {},
     "output_type": "execute_result"
    }
   ],
   "source": [
    "df.describe(include='object')"
   ]
  },
  {
   "cell_type": "markdown",
   "id": "d1adf284",
   "metadata": {},
   "source": [
    "### Measuring Central Tendency - Mean, Median, Mode"
   ]
  },
  {
   "cell_type": "code",
   "execution_count": 19,
   "id": "709c127c",
   "metadata": {},
   "outputs": [
    {
     "name": "stdout",
     "output_type": "stream",
     "text": [
      "danceability             0.716460\n",
      "energy                   0.659060\n",
      "key                      5.330000\n",
      "loudness                -5.677640\n",
      "mode                     0.590000\n",
      "speechiness              0.115569\n",
      "acousticness             0.195701\n",
      "instrumentalness         0.001584\n",
      "liveness                 0.158302\n",
      "valence                  0.484443\n",
      "tempo                  119.904180\n",
      "duration_ms         205206.780000\n",
      "time_signature           3.980000\n",
      "dtype: float64\n"
     ]
    }
   ],
   "source": [
    "mean = df.mean()\n",
    "\n",
    "print(mean)"
   ]
  },
  {
   "cell_type": "code",
   "execution_count": 20,
   "id": "05bc996d",
   "metadata": {},
   "outputs": [
    {
     "name": "stdout",
     "output_type": "stream",
     "text": [
      "danceability             0.73300\n",
      "energy                   0.67800\n",
      "key                      5.00000\n",
      "loudness                -5.56650\n",
      "mode                     1.00000\n",
      "speechiness              0.07495\n",
      "acousticness             0.10900\n",
      "instrumentalness         0.00000\n",
      "liveness                 0.11850\n",
      "valence                  0.47050\n",
      "tempo                  120.11600\n",
      "duration_ms         205047.50000\n",
      "time_signature           4.00000\n",
      "dtype: float64\n"
     ]
    }
   ],
   "source": [
    "median = df.median()\n",
    "\n",
    "print(median)"
   ]
  },
  {
   "cell_type": "code",
   "execution_count": null,
   "id": "d7675904",
   "metadata": {},
   "outputs": [],
   "source": []
  },
  {
   "cell_type": "code",
   "execution_count": 24,
   "id": "ae145b64",
   "metadata": {},
   "outputs": [
    {
     "name": "stdout",
     "output_type": "stream",
     "text": [
      "205206.78\n",
      "205047.5\n",
      "0      95467.0\n",
      "1     119133.0\n",
      "2     121887.0\n",
      "3     131064.0\n",
      "4     135090.0\n",
      "        ...   \n",
      "95    263400.0\n",
      "96    268867.0\n",
      "97    276147.0\n",
      "98    312820.0\n",
      "99    417920.0\n",
      "Name: duration_ms, Length: 100, dtype: float64\n"
     ]
    }
   ],
   "source": [
    "mean = df['duration_ms'].mean()\n",
    "\n",
    "print(mean)\n",
    "\n",
    "median = df['duration_ms'].median()\n",
    "\n",
    "print(median)\n",
    "\n",
    "mode = df['duration_ms'].mode()\n",
    "\n",
    "print(mode)"
   ]
  },
  {
   "cell_type": "code",
   "execution_count": 25,
   "id": "bfe52380",
   "metadata": {},
   "outputs": [
    {
     "data": {
      "text/plain": [
       "<AxesSubplot:xlabel='duration_ms', ylabel='Density'>"
      ]
     },
     "execution_count": 25,
     "metadata": {},
     "output_type": "execute_result"
    },
    {
     "data": {
      "image/png": "[encoded data removed]",
      "text/plain": [
       "<Figure size 432x288 with 1 Axes>"
      ]
     },
     "metadata": {
      "needs_background": "light"
     },
     "output_type": "display_data"
    }
   ],
   "source": [
    "#Displot\n",
    "\n",
    "data = df['duration_ms']\n",
    "\n",
    "sns.distplot(data, bins=10, hist=True, kde=True, label = 'duration_ms')"
   ]
  },
  {
   "cell_type": "code",
   "execution_count": 27,
   "id": "91ca6de7",
   "metadata": {},
   "outputs": [
    {
     "data": {
      "text/plain": [
       "1.2901236134431127"
      ]
     },
     "execution_count": 27,
     "metadata": {},
     "output_type": "execute_result"
    }
   ],
   "source": [
    "df['duration_ms'].skew()"
   ]
  },
  {
   "cell_type": "markdown",
   "id": "d95e6084",
   "metadata": {},
   "source": [
    "The above plot confirms that the duration in millisecond have little positive skewness."
   ]
  },
  {
   "cell_type": "code",
   "execution_count": 28,
   "id": "3a47f81b",
   "metadata": {},
   "outputs": [
    {
     "data": {
      "text/plain": [
       "7.8991344299823485"
      ]
     },
     "execution_count": 28,
     "metadata": {},
     "output_type": "execute_result"
    }
   ],
   "source": [
    "df['duration_ms'].kurt()"
   ]
  },
  {
   "cell_type": "markdown",
   "id": "cae032d6",
   "metadata": {},
   "source": [
    "kurtosis to be 7.8. So, it is greater than 3 and so excess kurtosis > 0. \n",
    "Hence, we can conclude that the Revenue (in millions) curve is a leptokurtic curve. \n",
    "As compared to a normal distribution, its central peak is higher and sharper, and its tails are longer and fatter."
   ]
  },
  {
   "cell_type": "code",
   "execution_count": 29,
   "id": "41e62678",
   "metadata": {},
   "outputs": [
    {
     "data": {
      "text/plain": [
       "danceability       -0.825076\n",
       "energy             -0.596613\n",
       "key                 0.002630\n",
       "loudness           -0.460573\n",
       "mode               -0.371575\n",
       "speechiness         2.072900\n",
       "acousticness        1.616843\n",
       "instrumentalness    9.843044\n",
       "liveness            2.005565\n",
       "valence             0.041956\n",
       "tempo               0.625235\n",
       "duration_ms         1.290124\n",
       "time_signature     -2.269635\n",
       "dtype: float64"
      ]
     },
     "execution_count": 29,
     "metadata": {},
     "output_type": "execute_result"
    }
   ],
   "source": [
    "df.skew()"
   ]
  },
  {
   "cell_type": "markdown",
   "id": "5c3d4ebf",
   "metadata": {},
   "source": [
    "<hr> Measure</h3>\n",
    "\n",
    "If the skewness is between -0.5 and 0.5, the data are fairly symmetrical.<br>\n",
    "If the skewness is between -1 and – 0.5 or between 0.5 and 1, the data are moderately skewed.<br>\n",
    "If the skewness is less than -1 or greater than 1, the data are highly skewed."
   ]
  },
  {
   "cell_type": "markdown",
   "id": "b75ec0f9",
   "metadata": {},
   "source": [
    "<hr> Interpretation: </h3>\n",
    "\n",
    "Positive skewness: right tail is long relative to the left tail.<br>\n",
    "Negative Skewness:  left tail is long relative to the right tail.<br>\n",
    "Zero Skewness: perfectly symmetrical has a skewness of 0 and Mean = Median = Mode"
   ]
  },
  {
   "cell_type": "code",
   "execution_count": 34,
   "id": "28aba730",
   "metadata": {},
   "outputs": [
    {
     "data": {
      "text/plain": [
       "<AxesSubplot:xlabel='speechiness', ylabel='Density'>"
      ]
     },
     "execution_count": 34,
     "metadata": {},
     "output_type": "execute_result"
    },
    {
     "data": {
      "image/png": "[encoded data removed]",
      "text/plain": [
       "<Figure size 432x288 with 1 Axes>"
      ]
     },
     "metadata": {
      "needs_background": "light"
     },
     "output_type": "display_data"
    }
   ],
   "source": [
    "sns.distplot(df[\"speechiness\"], bins=10, hist=True, kde=True, label = 'duration_ms')"
   ]
  },
  {
   "cell_type": "code",
   "execution_count": 35,
   "id": "d46773de",
   "metadata": {},
   "outputs": [
    {
     "data": {
      "text/plain": [
       "danceability         1.626851\n",
       "energy              -0.193944\n",
       "key                 -1.361705\n",
       "loudness            -0.203822\n",
       "mode                -1.900351\n",
       "speechiness          4.654142\n",
       "acousticness         1.964726\n",
       "instrumentalness    97.773418\n",
       "liveness             4.231941\n",
       "valence             -0.667233\n",
       "tempo               -0.207564\n",
       "duration_ms          7.899134\n",
       "time_signature      22.728229\n",
       "dtype: float64"
      ]
     },
     "execution_count": 35,
     "metadata": {},
     "output_type": "execute_result"
    }
   ],
   "source": [
    "df.kurt()"
   ]
  },
  {
   "cell_type": "markdown",
   "id": "2c9b8961",
   "metadata": {},
   "source": [
    "<h3>Kurtosis</h3><br>\n",
    "\n",
    "Kurtosis is the degree of peakedness of a distribution.<br>\n",
    "Data sets with high kurtosis tend to have a distinct peak near the mean, decline rather rapidly and have heavy tails.<br>\n",
    "Data sets with low kurtosis tend to have a flat top near the mean rather than a sharp peak.<br>\n",
    "\n",
    "<h3>Reference range for kurtosis</h3><br>\n",
    "The reference standard is a normal distribution, which has a kurtosis of 3.<br>\n",
    "Often, excess kurtosis is presented instead of kurtosis, where excess kurtosis is simply kurtosis - 3.<br>\n",
    "<h3>Mesokurtic curve</h3><br>\n",
    "A normal distribution has kurtosis exactly 3 (excess kurtosis exactly 0).<br>\n",
    "Any distribution with kurtosis ≈3 (excess ≈ 0) is called mesokurtic.<br>\n",
    "<h3>Platykurtic curve</h3><br>\n",
    "A distribution with kurtosis < 3 (excess kurtosis < 0) is called platykurtic.<br>\n",
    "As compared to a normal distribution, its central peak is lower and broader, and its tails are shorter and thinner.<br>\n",
    "\n",
    "<h3>Leptokurtic curve</h3><br>\n",
    "A distribution with kurtosis > 3 (excess kurtosis > 0) is called leptokurtic.<br>\n",
    "As compared to a normal distribution, its central peak is higher and sharper, and its tails are longer and fatter.<br>"
   ]
  },
  {
   "cell_type": "code",
   "execution_count": null,
   "id": "69937687",
   "metadata": {},
   "outputs": [],
   "source": []
  }
 ],
 "metadata": {
  "kernelspec": {
   "display_name": "Python 3 (ipykernel)",
   "language": "python",
   "name": "python3"
  },
  "language_info": {
   "codemirror_mode": {
    "name": "ipython",
    "version": 3
   },
   "file_extension": ".py",
   "mimetype": "text/x-python",
   "name": "python",
   "nbconvert_exporter": "python",
   "pygments_lexer": "ipython3",
   "version": "3.9.12"
  }
 },
 "nbformat": 4,
 "nbformat_minor": 5
}
